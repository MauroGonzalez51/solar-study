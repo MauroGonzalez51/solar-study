{
 "cells": [
  {
   "cell_type": "code",
   "execution_count": null,
   "metadata": {},
   "outputs": [],
   "source": [
    "import numpy as np\n",
    "import pandas as pd\n",
    "import matplotlib.pyplot as plt\n",
    "import glob, os, lib\n",
    "from dotenv import load_dotenv\n",
    "import typing\n",
    "\n",
    "load_dotenv()"
   ]
  },
  {
   "cell_type": "code",
   "execution_count": null,
   "metadata": {},
   "outputs": [],
   "source": [
    "\"\"\"\n",
    "This code snippet reads data from Excel files and processes it. It collects system reliability data, dates, and a DataFrame containing specific columns.\n",
    "\n",
    "Explanation:\n",
    "1. The code initializes three empty lists: `sys`, `dat`, and `df`.\n",
    "2. It searches for Excel files recursively in the current working directory.\n",
    "3. For each file:\n",
    "   a. Attempts to read data from the sheet named \"System Reliability Data\" using the openpyxl engine.\n",
    "   b. Reads additional data from the same sheet, skipping the first 8 rows.\n",
    "   c. Appends values from specific columns to the `sys` and `dat` lists.\n",
    "   d. Extracts a DataFrame containing specific columns from the remaining data and appends it to the `df` list.\n",
    "4. Any exceptions encountered during file processing are caught and ignored.\n",
    "\n",
    "Note:\n",
    "- This code assumes that the Excel files contain sheets named \"System Reliability Data.\"\n",
    "- Adjust the sheet names and column indices as needed for your specific data.\n",
    "\"\"\"\n",
    "\n",
    "sys, dat, df = [], [], []\n",
    "\n",
    "for file in glob.glob(os.path.join(os.getcwd(), \"**\", \"*.xlsx\"), recursive=True):\n",
    "    try:\n",
    "        a = pd.read_excel(file, sheet_name=\"System Reliability Data\", engine='openpyxl')\n",
    "        b = pd.read_excel(file, sheet_name=\"System Reliability Data\", engine='openpyxl', skiprows=8)\n",
    "        sys.append(a[\"Unnamed: 2\"][1])\n",
    "        dat.append(a[\"Unnamed: 2\"][2])\n",
    "        df.append(pd.DataFrame(b.iloc[:,17:-1].iloc[1]).T)\n",
    "    except:\n",
    "        continue"
   ]
  },
  {
   "cell_type": "code",
   "execution_count": null,
   "metadata": {},
   "outputs": [],
   "source": [
    "\"\"\"\n",
    "This code snippet concatenates and processes data from a DataFrame. It assigns specific columns and sorts the DataFrame by date.\n",
    "\n",
    "Explanation:\n",
    "1. The code concatenates DataFrames contained in the list `df`.\n",
    "2. Two new columns are created in the resulting DataFrame: \"Date\" and \"System.\"\n",
    "3. Duplicate rows based on the \"Date\" column are removed.\n",
    "4. The \"Date\" column is set as the index of the DataFrame.\n",
    "5. The DataFrame is sorted in ascending order based on the date.\n",
    "\n",
    "Note:\n",
    "- Adjust column names and operations according to your specific data.\n",
    "\"\"\"\n",
    "\n",
    "raw_data: pd.DataFrame = pd.concat([df[j] for j in range(len(df))])\n",
    "raw_data[\"Date\"], raw_data[\"System\"] = dat, sys\n",
    "raw_data.index = raw_data[\"Date\"]\n",
    "data = raw_data.drop_duplicates().sort_index(ascending=True)"
   ]
  },
  {
   "cell_type": "code",
   "execution_count": null,
   "metadata": {},
   "outputs": [],
   "source": [
    "data[\"System\"].value_counts()"
   ]
  },
  {
   "cell_type": "code",
   "execution_count": null,
   "metadata": {},
   "outputs": [],
   "source": [
    "\"\"\"\n",
    "This code snippet filters a DataFrame based on specific system names. It creates a dictionary of desired system names and then filters the data accordingly.\n",
    "\n",
    "Explanation:\n",
    "1. The dictionary `desired_systems` maps system IDs to their corresponding names.\n",
    "2. The DataFrame `filtered_by_systems` is created by filtering rows where the \"System\" column value matches any of the desired system names.\n",
    "\n",
    "Note:\n",
    "- Adjust the system names and column names according to your specific data.\n",
    "\"\"\"\n",
    "\n",
    "desired_systems: typing.Dict[int, str] = {\n",
    "    1: \"Consumers Energy Co.\",\n",
    "    2: \"DTE Energy Co.\",\n",
    "    3: \"Indiana Michigan Power Co.\"\n",
    "}\n",
    "\n",
    "filtered_df: pd.DataFrame = data[(data[\"System\"]).isin(desired_systems.values())]"
   ]
  },
  {
   "cell_type": "code",
   "execution_count": null,
   "metadata": {},
   "outputs": [],
   "source": [
    "\"\"\"\n",
    "This code snippet visualizes a specific reliability index for different energy systems. It normalizes the data and plots it for each system.\n",
    "\n",
    "Explanation:\n",
    "1. The dictionary `fields` maps field IDs to their corresponding descriptions.\n",
    "2. The variable `field_to_analyze` is set to the description of the reliability index to be analyzed (e.g., SAIFI).\n",
    "3. A plot is created for each energy system, showing the normalized values of the specified reliability index.\n",
    "4. The y-axis represents the normalized index values (scaled to a maximum of 1).\n",
    "\n",
    "Note:\n",
    "- Adjust the field descriptions and column names according to your specific data.\n",
    "\"\"\"\n",
    "\n",
    "fields: typing.Dict[int, str] = {\n",
    "    1: \"Total Customer outages\",\n",
    "    2: \"Total number of outages causes by equipment failure\",\n",
    "    3: \"Total number of outages caused by lightning\",\n",
    "    4: \"Total number of planned and forced outages\",\n",
    "    5: \"Total number of outages caused by transmission or generation failure\",\n",
    "    6: \"Total number of outages caused by an act of the public at large\",\n",
    "    7: \"Total number of outages caused by trees\",\n",
    "    8: \"Total number of outage caused by weather\",\n",
    "    9: \"Total number of outages caued by animal interference\",\n",
    "    10: \"Total number of outages caused by unknonwn causes\",\n",
    "    11: \"Total number of outages caused by other causes\",\n",
    "    12: \"System Average Interruption Duration Index\", # ! SAIDI\n",
    "    13: \"System Average Interruption Frequency Index\", # ! SAIFI\n",
    "    14: \"Customer Average Interruption Duration Index (contribution to total CAIDI)\", # ! CAIDI\n",
    "    15: \"Average Service Availability Index\"\n",
    "}\n",
    "\n",
    "field_to_analyze: str = fields.get(15)\n",
    "\n",
    "plt.figure(figsize=(20, 4))\n",
    "\n",
    "for i in filtered_df[\"System\"].value_counts().index:\n",
    "    (filtered_df[filtered_df[\"System\"] == i][field_to_analyze] / (filtered_df[filtered_df[\"System\"] == i][field_to_analyze].max() or 1)).plot(label=i)\n",
    "    plt.legend(ncol=3)\n",
    "    plt.title(label=field_to_analyze)"
   ]
  }
 ],
 "metadata": {
  "kernelspec": {
   "display_name": ".venv",
   "language": "python",
   "name": "python3"
  },
  "language_info": {
   "codemirror_mode": {
    "name": "ipython",
    "version": 3
   },
   "file_extension": ".py",
   "mimetype": "text/x-python",
   "name": "python",
   "nbconvert_exporter": "python",
   "pygments_lexer": "ipython3",
   "version": "3.12.2"
  }
 },
 "nbformat": 4,
 "nbformat_minor": 2
}
