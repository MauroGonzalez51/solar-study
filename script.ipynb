{
 "cells": [
  {
   "cell_type": "code",
   "execution_count": null,
   "id": "7f502ac3-4bba-4a05-924d-1170c184e296",
   "metadata": {},
   "outputs": [],
   "source": [
    "import numpy as np\n",
    "import pandas as pd\n",
    "import matplotlib.pyplot as plt\n",
    "import glob, os, lib\n",
    "from dotenv import load_dotenv\n",
    "\n",
    "load_dotenv()"
   ]
  },
  {
   "cell_type": "code",
   "execution_count": null,
   "id": "aafda9c7-46cc-43fe-9d5b-9af14dbd245a",
   "metadata": {},
   "outputs": [],
   "source": [
    "sys, dat, df = [], [], []\n",
    "\n",
    "for file in glob.glob(os.path.join(os.getcwd(), \"**\", \"*.xlsx\"), recursive=True):\n",
    "    try:\n",
    "        a = pd.read_excel(file, sheet_name=\"System Reliability Data\", engine='openpyxl')\n",
    "        b = pd.read_excel(file, sheet_name=\"System Reliability Data\", engine='openpyxl', skiprows=8)\n",
    "        sys.append(a[\"Unnamed: 2\"][1])\n",
    "        dat.append(a[\"Unnamed: 2\"][2])\n",
    "        df.append(pd.DataFrame(b.iloc[:,17:-1].iloc[1]).T)\n",
    "    except:\n",
    "        continue"
   ]
  },
  {
   "cell_type": "code",
   "execution_count": null,
   "id": "3d52e1cb-27b8-499b-8fe5-db8701c9d041",
   "metadata": {},
   "outputs": [],
   "source": [
    "c = pd.concat([df[j] for j in range(len(df))])\n",
    "c[\"Date\"], c[\"System\"] = dat, sys\n",
    "c = c.drop_duplicates() # TODO: Even tho the duplicates are being removed, gotta remove manually all the duplicated data (just in case)\n",
    "c.index = c[\"Date\"]"
   ]
  },
  {
   "cell_type": "code",
   "execution_count": null,
   "id": "5e055e27-7202-42b6-bbca-94c953731174",
   "metadata": {},
   "outputs": [],
   "source": [
    "c[\"System\"].value_counts()"
   ]
  },
  {
   "cell_type": "code",
   "execution_count": null,
   "id": "d1eb12a9-24ae-49a7-9e9f-e9589adf16dc",
   "metadata": {},
   "outputs": [],
   "source": [
    "# TODO: This can be implemented using a List\n",
    "# In the list will be put all the Items we wanna filter throught, so it isn't necessary to write a \"|\" statement for each of them \n",
    "\n",
    "c1 = c[(c[\"System\"] == \"Consumers Energy Co.\") | (c[\"System\"] == \"DTE Energy Co.\") | (c[\"System\"] == \"Indiana Michigan Power Co.\")]"
   ]
  },
  {
   "cell_type": "code",
   "execution_count": null,
   "id": "088ce392-dde0-445c-b050-3780eb2a7f5c",
   "metadata": {},
   "outputs": [],
   "source": [
    "plt.figure(figsize = (20,4))\n",
    "\n",
    "# ! Plot\n",
    "# Using the data of \"Other\" causes of each Company\n",
    "\n",
    "for i in c1[\"System\"].value_counts().index:\n",
    "    (c1[c1[\"System\"] == i][\"Total number of outages caused by other causes\"] / c1[c1[\"System\"] == i][\"Total number of outages caused by other causes\"].max()).plot(label=i)\n",
    "    plt.legend(ncol=3)"
   ]
  },
  {
   "cell_type": "code",
   "execution_count": null,
   "id": "99cfb166-b6be-4ae2-a887-8de2952a890b",
   "metadata": {},
   "outputs": [],
   "source": []
  },
  {
   "cell_type": "code",
   "execution_count": null,
   "id": "0a5e4f1a-f799-47c0-bffa-dd27c2f291e5",
   "metadata": {},
   "outputs": [],
   "source": [
    "try:\n",
    "    raw_data = pd.read_csv(os.getenv('FILE_PATH_OMNI'), delimiter=\"\\s+\", names=range(55), engine=\"python\")\n",
    "except:\n",
    "    print(\"<Exception> OMNI File Required\")\n",
    "    exit(0)"
   ]
  },
  {
   "cell_type": "code",
   "execution_count": null,
   "id": "ca730ca0-78f9-4263-8411-ba7f57cc98d8",
   "metadata": {},
   "outputs": [],
   "source": [
    "data = raw_data[[0, 1, 2, 38, 39, 40, 49, 50, 22, 23, 24, 27, 28, 8]] # + Data to be used\n",
    "data = data[(data[0]>=2023) & (data[0]<=2023)]\n",
    "\n",
    "# TODO: Explain for what every column will be used for ...\n",
    "\n",
    "data.columns = [\n",
    "    \"Year\", # Kinda obvious ...\n",
    "    \"DecimalYear\", #\n",
    "    \"Hour\", #\n",
    "    \"Kp\", #\n",
    "    \"R\", #\n",
    "    \"DST\", #\n",
    "    \"Ap\", #\n",
    "    \"F10.7\", #\n",
    "    \"Proton temperature\", #\n",
    "    \"Proton Density\", #\n",
    "    \"Plasma speed\", #\n",
    "    \"Alpha/Proton ratio\", #\n",
    "    \"Flow Pressure\", #\n",
    "    \"Field Magnitude Average |B|\" #\n",
    "]\n",
    "data.index = pd.date_range(\"2023\", \"2024\", freq=\"60min\")[:-1]\n",
    "data = data[[\"Kp\", \"R\", \"DST\", \"Ap\", \"F10.7\", \"Proton temperature\", \"Proton Density\", \"Plasma speed\", \"Alpha/Proton ratio\",\n",
    "              \"Flow Pressure\", \"Field Magnitude Average |B|\"]]\n",
    "data"
   ]
  },
  {
   "cell_type": "code",
   "execution_count": null,
   "id": "595dc74c-748d-487e-973c-3c4e80715954",
   "metadata": {},
   "outputs": [],
   "source": [
    "# TODO: Refactor this. if possible\n",
    "\n",
    "data[\"F10.7\"] = np.where(data[\"F10.7\"] == 999.9, np.nan, data[\"F10.7\"])\n",
    "data[\"Kp\"] = np.where(data[\"Kp\"] == 99, np.nan, data[\"Kp\"])\n",
    "data[\"R\"] = np.where(data[\"R\"] == 999, np.nan, data[\"R\"])\n",
    "data[\"DST\"] = np.where(data[\"DST\"] == 99999, np.nan, data[\"DST\"])\n",
    "data[\"Ap\"] = np.where(data[\"Ap\"] == 999, np.nan, data[\"Ap\"])\n",
    "data[\"Proton temperature\"] = np.where(data[\"Proton temperature\"] == 9999999, np.nan, data[\"Proton temperature\"])\n",
    "data[\"Proton Density\"] = np.where(data[\"Proton Density\"] == 999.9, np.nan, data[\"Proton Density\"])\n",
    "data[\"Plasma speed\"] = np.where(data[\"Plasma speed\"] == 9999, np.nan, data[\"Plasma speed\"])\n",
    "data[\"Alpha/Proton ratio\"] = np.where(data[\"Alpha/Proton ratio\"] == 9.999, np.nan, data[\"Alpha/Proton ratio\"])\n",
    "data[\"Flow Pressure\"] = np.where(data[\"Flow Pressure\"] == 99.99, np.nan, data[\"Flow Pressure\"])\n",
    "data[\"Field Magnitude Average |B|\"] = np.where(data[\"Field Magnitude Average |B|\"] == 999.9, np.nan, data[\"Field Magnitude Average |B|\"])"
   ]
  },
  {
   "cell_type": "code",
   "execution_count": null,
   "id": "dab49f8f-a395-4144-b423-24a0c7c4a554",
   "metadata": {},
   "outputs": [],
   "source": [
    "data = data[(data.index >= \"2023\")]\n",
    "data"
   ]
  },
  {
   "cell_type": "code",
   "execution_count": null,
   "id": "6748e681-5ac7-45ba-a7cd-8867b9a42839",
   "metadata": {},
   "outputs": [],
   "source": [
    "# Hacemos una funcion que te permite agregar las columnas y llenarlas de 0\n",
    "def create_columns(df, new_columns):\n",
    "    df[new_columns] = np.zeros((len(df), len(new_columns)))\n",
    "    return df"
   ]
  },
  {
   "cell_type": "code",
   "execution_count": null,
   "id": "908dac84-829b-4713-83ac-f4f9e15f4aa3",
   "metadata": {},
   "outputs": [],
   "source": [
    "# Creating a copy of the dataframe (in order to manipulate them)\n",
    "df = data.copy() \n",
    "\n",
    "# Columns go from \"G0\" to \"G5\"\n",
    "new_columns_kp = ['G0' , 'G1', 'G2', 'G3', 'G4', 'G5']\n",
    "\n",
    "# df[new_columns_kp] = np.zeros((len(df), len(new_columns_kp)))\n",
    "df = create_columns(df, new_columns_kp)"
   ]
  },
  {
   "cell_type": "code",
   "execution_count": null,
   "id": "f17b068a-d952-4b63-82e1-e5e6e357a57a",
   "metadata": {},
   "outputs": [],
   "source": [
    "# Conditions ... \n",
    "conditions = {\n",
    "    'G0': data['Kp'].le(43),\n",
    "    'G1': data['Kp'].between(46, 54),\n",
    "    'G2': data['Kp'].between(56, 64),\n",
    "    'G3': data['Kp'].between(66, 74),\n",
    "    'G4': data['Kp'].between(76, 88),\n",
    "    'G5': data['Kp'].ge(90)\n",
    "}\n",
    "\n",
    "for G, condition in conditions.items(): \n",
    "    df[G] = condition"
   ]
  },
  {
   "cell_type": "code",
   "execution_count": null,
   "id": "e541a991-60f9-4be0-8727-57d6ee49d9e8",
   "metadata": {},
   "outputs": [],
   "source": [
    "def resample_kp(df, lvl, closed = None):\n",
    "    df_resampled_kp = df.resample(rule = lvl, closed = closed).agg({\n",
    "        'Kp': 'max',\n",
    "        'R': 'mean',\n",
    "        'F10.7': 'mean',\n",
    "        'Proton temperature': 'mean',\n",
    "        'Proton Density': 'mean',\n",
    "        'Plasma speed': 'mean',\n",
    "        'Alpha/Proton ratio': 'mean',\n",
    "        'Flow Pressure': 'mean',\n",
    "        'Field Magnitude Average |B|': 'mean',\n",
    "        'G1': 'sum',\n",
    "        'G2': 'sum',\n",
    "        'G3': 'sum',\n",
    "        'G4': 'sum',\n",
    "        'G5': 'sum',\n",
    "    })    \n",
    "    df_resampled_kp['Total ST'] = df_resampled_kp[['G1','G2','G3','G4','G5']].sum(axis = 1)\n",
    "    return df_resampled_kp"
   ]
  },
  {
   "cell_type": "code",
   "execution_count": null,
   "id": "02cae4cf-e3ea-421c-adad-7faa9275495a",
   "metadata": {},
   "outputs": [],
   "source": [
    "freq = \"M\""
   ]
  },
  {
   "cell_type": "code",
   "execution_count": null,
   "id": "ac77eff1-11be-4797-888a-c04872e08752",
   "metadata": {},
   "outputs": [],
   "source": [
    "df_resample_kp = resample_kp(df, freq)\n",
    "df_resample_kp['Solar Cycle'] = pd.cut(df_resample_kp.index,\n",
    "                                     bins = [\n",
    "                                          pd.to_datetime('1964-10-01'),\n",
    "                                          pd.to_datetime('1976-03-01'),\n",
    "                                          pd.to_datetime('1986-09-01'),\n",
    "                                          pd.to_datetime(\"1996-08-01\"), \n",
    "                                          pd.to_datetime(\"2008-12-31\"),\n",
    "                                          pd.to_datetime(\"2019-12-31\"), \n",
    "                                          pd.to_datetime(\"2100-01-01\")\n",
    "                                    ],\n",
    "                                     labels=[20,21,22,23,24,25])\n",
    "df_resample_kp = df_resample_kp.rename(columns={\"Kp\":\"Kp max\"})\n",
    "df_resample_kp"
   ]
  },
  {
   "cell_type": "code",
   "execution_count": null,
   "id": "072062de-0eb1-4041-9c6e-dc5ebdc80549",
   "metadata": {},
   "outputs": [],
   "source": [
    "c1_CEC = c1[c1[\"System\"] == \"Consumers Energy Co.\"]\n",
    "c1_CEC[\"TotalStorms\"] = df_resample_kp[\"Total ST\"]\n",
    "c1_CEC[\"G1\"] = df_resample_kp[\"G1\"]\n",
    "c1_CEC[\"G2\"] = df_resample_kp[\"G2\"]\n",
    "c1_CEC[\"G3\"] = df_resample_kp[\"G3\"]\n",
    "c1_CEC[\"G4\"] = df_resample_kp[\"G4\"]\n",
    "c1_CEC[\"G5\"] = df_resample_kp[\"G5\"]"
   ]
  },
  {
   "cell_type": "code",
   "execution_count": null,
   "id": "0700c8cd-4a43-457d-917c-79e224f7d9d0",
   "metadata": {},
   "outputs": [],
   "source": [
    "c1_CEC"
   ]
  },
  {
   "cell_type": "code",
   "execution_count": null,
   "id": "69ddd4cf-c75e-4466-9e2a-206f64a2e626",
   "metadata": {},
   "outputs": [],
   "source": [
    "c1_CEC.columns"
   ]
  },
  {
   "cell_type": "code",
   "execution_count": null,
   "id": "d4164fa8-356f-45df-ace8-a8b10014169b",
   "metadata": {},
   "outputs": [],
   "source": [
    "plt.scatter(c1_CEC[\"TotalStorms\"], c1_CEC[\"Total number of outages caused by unknonwn causes\"])"
   ]
  },
  {
   "cell_type": "code",
   "execution_count": null,
   "id": "0e9d68d0-7e4c-4471-96cc-3bbe8d378caf",
   "metadata": {},
   "outputs": [],
   "source": [
    "plt.figure(figsize=(20,4))\n",
    "(c1_CEC[\"Total number of outages caused by unknonwn causes\"] / c1_CEC[\"Total number of outages caused by unknonwn causes\"].max()).plot()\n",
    "(c1_CEC[\"TotalStorms\"] / c1_CEC[\"TotalStorms\"].max()).plot()\n",
    "plt.legend(ncol=3)"
   ]
  },
  {
   "cell_type": "code",
   "execution_count": null,
   "id": "017848ca-b79e-46f7-af05-585e28e42d30",
   "metadata": {},
   "outputs": [],
   "source": [
    "np.corrcoef(np.array(c1_CEC[\"Total number of outages caused by unknonwn causes\"]), np.array(c1_CEC[\"TotalStorms\"]))"
   ]
  },
  {
   "cell_type": "code",
   "execution_count": null,
   "id": "b0e4630d-7a3e-4064-a670-4b26afd8b38f",
   "metadata": {},
   "outputs": [],
   "source": [
    "c1_CEC.corr(numeric_only=True)"
   ]
  },
  {
   "cell_type": "code",
   "execution_count": null,
   "id": "ab31f07a-fb5d-4282-9f72-bfec014fac7c",
   "metadata": {},
   "outputs": [],
   "source": []
  }
 ],
 "metadata": {
  "kernelspec": {
   "display_name": "Python 3 (ipykernel)",
   "language": "python",
   "name": "python3"
  },
  "language_info": {
   "codemirror_mode": {
    "name": "ipython",
    "version": 3
   },
   "file_extension": ".py",
   "mimetype": "text/x-python",
   "name": "python",
   "nbconvert_exporter": "python",
   "pygments_lexer": "ipython3",
   "version": "3.12.2"
  }
 },
 "nbformat": 4,
 "nbformat_minor": 5
}
